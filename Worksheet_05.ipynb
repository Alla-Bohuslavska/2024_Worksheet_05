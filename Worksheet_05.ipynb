{
 "cells": [
  {
   "cell_type": "markdown",
   "id": "7d88590a-1c49-4d7f-b37d-39ff81b0f741",
   "metadata": {},
   "source": [
    "## Statistics 2780A - Statistical Inference ##\n",
    "## Fall 2024 #\n",
    "## Tutorial 5 #\n",
    "October 9, 2024"
   ]
  },
  {
   "cell_type": "markdown",
   "id": "4bdfcd48-6e9e-4c40-93d2-588681e4bdae",
   "metadata": {},
   "source": [
    "## Q1 ##\n",
    "3. For $X_1,\\ldots,X_{30}\\sim N(\\mu, \\sigma^2)$, i.i.d. with $\\mu$, $\\sigma$ unknown, we have 20 samples, each consisting\n",
    "of 30 observations $x_1,\\ldots, x_{30}$. For each sample, we have estimated the mean and the standard deviation, using the\n",
    "sample estimators $\\overline{X}_{30}$ and $S_{30}$. The following sample means and standard deviations are obtained:\n",
    "\n",
    "`means <-c(3.73, 3.60, 3.71, 3.93, 3.88, 3.33, 3.77, 3.76, 3.87, 4.33, 4.44, 3.93, 3.99, 4.31, 3.87, 3.90, 4.09, 4.07, 4.34, 3.92)`\n",
    "\n",
    "`sds <- c(3.73, 3.60, 3.71, 3.93, 3.88, 3.33, 3.77, 3.76, 3.87, 4.33, 4.44, 3.93, 3.99, 4.31, 3.87, 3.90, 4.09, 4.07, 4.34, 3.92)`\n",
    "\n",
    "Estimate 90% confidence intervals for the unknown mean of the population.  \n",
    "    1. How many of the constructed confidence intervals do you expect to contain the true mean?  \n",
    "    2. The true mean of the population is $\\mu=4$. Check if your expectation from B. was valid. You may use the function \n",
    "    `which(4<l | 4>u)` to check if the true mean is outside the estimated interval $[l,u]$.  \n",
    "    3. What do you notice about the length of the confidence intervals? \n"
   ]
  },
  {
   "cell_type": "code",
   "execution_count": null,
   "id": "b18d47a0-0a9b-4333-b937-7994a9969f2a",
   "metadata": {},
   "outputs": [],
   "source": [
    "# answer"
   ]
  },
  {
   "cell_type": "markdown",
   "id": "a1241a12-af81-47a3-b11d-e1f5f6cb7c35",
   "metadata": {},
   "source": [
    "## Q2 ##\n",
    "2. The dataset $\\texttt{cars}$ give the speed (x) and the distance taken to stop (y) of 50 cars. We assume a linear regression to estimate the linear dependence between the stopping distance (dependent variable) and the speed (independent variable).\n",
    "    1. Estimate the slope and the intercept of the linear regression using the function `lm(y~x)`. Interpret the values.\n",
    "    2. Estimate the standard deviation of the residuals.\n",
    "    3. Estimate the Pearson correlation coefficient between x and y, using the estimated slope. Interpret the result. Compare your result with the empirical Pearson correlation coefficient computed using the function `cor(x,y, method = \"pearson\")`\n",
    "    4. Determine the standard deviation of the estimator $\\widehat{\\beta}_1$ using the data. Compute a 95% confidence interval for $\\beta_1$."
   ]
  },
  {
   "cell_type": "code",
   "execution_count": null,
   "id": "d2263cd7-63ca-4145-b049-7857c1e49d96",
   "metadata": {},
   "outputs": [],
   "source": [
    "# answer"
   ]
  },
  {
   "cell_type": "markdown",
   "id": "d98c156e-cca7-4c8e-902c-48ee61cbcb20",
   "metadata": {},
   "source": [
    "## Q3 ##\n",
    "3. The dataset $\\texttt{airquality}$ contains daily air quality measurements in New York, May to September 1973. We focus on wind speed (regressor x) and temperature (response y).\n",
    "    1. Estimate the slope and the intercept of the linear regression using the function `lm(y~x)`. Interpret the values.\n",
    "    2. Check if the data are appropriate for a linear regression.\n",
    "       1. Plot the QQ-plot and the histogram of the residuals and compare them with the theoretical normal distribution. \n",
    "       2. Plot the regressor versus the residuals. Interpret the result.\n",
    "       3. Plot the response and the fitted values versus the residuals to check if the variance is approximately constant. What do you observe?"
   ]
  },
  {
   "cell_type": "code",
   "execution_count": null,
   "id": "3d2c139c-d455-4eb8-9bc1-e88b2ad01e0f",
   "metadata": {},
   "outputs": [],
   "source": [
    "# answer"
   ]
  }
 ],
 "metadata": {
  "kernelspec": {
   "display_name": "R",
   "language": "R",
   "name": "ir"
  },
  "language_info": {
   "codemirror_mode": "r",
   "file_extension": ".r",
   "mimetype": "text/x-r-source",
   "name": "R",
   "pygments_lexer": "r",
   "version": "4.3.3"
  }
 },
 "nbformat": 4,
 "nbformat_minor": 5
}
